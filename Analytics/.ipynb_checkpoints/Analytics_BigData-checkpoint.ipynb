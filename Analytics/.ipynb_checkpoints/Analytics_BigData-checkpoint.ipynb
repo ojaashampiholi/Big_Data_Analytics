{
 "cells": [
  {
   "cell_type": "code",
   "execution_count": 24,
   "metadata": {},
   "outputs": [],
   "source": [
    "import pandas as pd\n",
    "from nltk.tokenize import word_tokenize, sent_tokenize\n",
    "import nltk\n",
    "import spacy\n",
    "import en_core_web_sm"
   ]
  },
  {
   "cell_type": "code",
   "execution_count": 2,
   "metadata": {},
   "outputs": [],
   "source": [
    "## data read\n",
    "df_storm = pd.read_csv('stormWords.csv') \n",
    "df_twitter = pd.read_csv('twitterWords.csv') "
   ]
  },
  {
   "cell_type": "code",
   "execution_count": 3,
   "metadata": {},
   "outputs": [
    {
     "data": {
      "text/html": [
       "<div>\n",
       "<style scoped>\n",
       "    .dataframe tbody tr th:only-of-type {\n",
       "        vertical-align: middle;\n",
       "    }\n",
       "\n",
       "    .dataframe tbody tr th {\n",
       "        vertical-align: top;\n",
       "    }\n",
       "\n",
       "    .dataframe thead th {\n",
       "        text-align: right;\n",
       "    }\n",
       "</style>\n",
       "<table border=\"1\" class=\"dataframe\">\n",
       "  <thead>\n",
       "    <tr style=\"text-align: right;\">\n",
       "      <th></th>\n",
       "      <th>word</th>\n",
       "    </tr>\n",
       "  </thead>\n",
       "  <tbody>\n",
       "    <tr>\n",
       "      <td>0</td>\n",
       "      <td>USFS</td>\n",
       "    </tr>\n",
       "    <tr>\n",
       "      <td>1</td>\n",
       "      <td>NWAC</td>\n",
       "    </tr>\n",
       "    <tr>\n",
       "      <td>2</td>\n",
       "      <td>station</td>\n",
       "    </tr>\n",
       "    <tr>\n",
       "      <td>3</td>\n",
       "      <td>Hurricane</td>\n",
       "    </tr>\n",
       "    <tr>\n",
       "      <td>4</td>\n",
       "      <td>Ridge</td>\n",
       "    </tr>\n",
       "  </tbody>\n",
       "</table>\n",
       "</div>"
      ],
      "text/plain": [
       "        word\n",
       "0       USFS\n",
       "1       NWAC\n",
       "2    station\n",
       "3  Hurricane\n",
       "4      Ridge"
      ]
     },
     "execution_count": 3,
     "metadata": {},
     "output_type": "execute_result"
    }
   ],
   "source": [
    "# storm data \n",
    "df_storm.head()"
   ]
  },
  {
   "cell_type": "code",
   "execution_count": 4,
   "metadata": {},
   "outputs": [
    {
     "data": {
      "text/html": [
       "<div>\n",
       "<style scoped>\n",
       "    .dataframe tbody tr th:only-of-type {\n",
       "        vertical-align: middle;\n",
       "    }\n",
       "\n",
       "    .dataframe tbody tr th {\n",
       "        vertical-align: top;\n",
       "    }\n",
       "\n",
       "    .dataframe thead th {\n",
       "        text-align: right;\n",
       "    }\n",
       "</style>\n",
       "<table border=\"1\" class=\"dataframe\">\n",
       "  <thead>\n",
       "    <tr style=\"text-align: right;\">\n",
       "      <th></th>\n",
       "      <th>word</th>\n",
       "    </tr>\n",
       "  </thead>\n",
       "  <tbody>\n",
       "    <tr>\n",
       "      <td>0</td>\n",
       "      <td>28</td>\n",
       "    </tr>\n",
       "    <tr>\n",
       "      <td>1</td>\n",
       "      <td>deaths</td>\n",
       "    </tr>\n",
       "    <tr>\n",
       "      <td>2</td>\n",
       "      <td>due</td>\n",
       "    </tr>\n",
       "    <tr>\n",
       "      <td>3</td>\n",
       "      <td>Hurricane</td>\n",
       "    </tr>\n",
       "    <tr>\n",
       "      <td>4</td>\n",
       "      <td>Sandy</td>\n",
       "    </tr>\n",
       "  </tbody>\n",
       "</table>\n",
       "</div>"
      ],
      "text/plain": [
       "        word\n",
       "0         28\n",
       "1     deaths\n",
       "2        due\n",
       "3  Hurricane\n",
       "4      Sandy"
      ]
     },
     "execution_count": 4,
     "metadata": {},
     "output_type": "execute_result"
    }
   ],
   "source": [
    "# twitter data\n",
    "df_twitter.head()"
   ]
  },
  {
   "cell_type": "code",
   "execution_count": 5,
   "metadata": {},
   "outputs": [],
   "source": [
    "# Data Pre-processing \n",
    "nlp = en_core_web_sm.load()\n",
    "\n",
    "# Covert to lower case\n",
    "df_storm[\"word\"] = df_storm[\"word\"].str.lower()\n",
    "df_twitter[\"word\"] = df_twitter[\"word\"].str.lower()"
   ]
  },
  {
   "cell_type": "code",
   "execution_count": 6,
   "metadata": {},
   "outputs": [],
   "source": [
    "# Lemmetize the text \n",
    "\n",
    "df_storm[\"word\"] = df_storm[\"word\"].apply(lambda row: ' '.join([w.lemma_ for w in nlp(row)]))\n",
    "df_twitter[\"word\"] = df_twitter[\"word\"].apply(lambda row: ' '.join([w.lemma_ for w in nlp(row)]))"
   ]
  },
  {
   "cell_type": "code",
   "execution_count": 15,
   "metadata": {},
   "outputs": [],
   "source": [
    "# POS Tagging\n",
    "def getPosTag(text):\n",
    "    text = word_tokenize(text)\n",
    "    return nltk.pos_tag(text) \n",
    "\n",
    "df_storm[\"Pos_Tag\"] = df_storm.apply(lambda row: getPosTag(row['word']), axis=1)\n",
    "df_twitter[\"Pos_Tag\"] = df_twitter.apply(lambda row: getPosTag(row['word']), axis=1)"
   ]
  },
  {
   "cell_type": "code",
   "execution_count": 16,
   "metadata": {
    "scrolled": true
   },
   "outputs": [
    {
     "name": "stdout",
     "output_type": "stream",
     "text": [
      "POS Tagging for Storm Data: \n",
      "Counter({'NN': 7026, 'JJ': 1235, 'CD': 838, 'RB': 497, 'IN': 409, 'DT': 214, '(': 177, 'NNS': 154, 'VB': 127, 'VBG': 93, 'VBN': 61, '$': 29, 'JJS': 23, 'LS': 14, 'VBD': 9, 'SYM': 8, 'RBR': 6, 'MD': 3, 'CC': 1})\n"
     ]
    }
   ],
   "source": [
    "from collections import Counter \n",
    "pos = df_storm[\"Pos_Tag\"]\n",
    "tags = []\n",
    "for word in df_storm[\"Pos_Tag\"]:\n",
    "    tags.append(word[0][1])\n",
    "count_storm = Counter(tags)\n",
    "print(\"POS Tagging for Storm Data: \")\n",
    "print(count_storm)"
   ]
  },
  {
   "cell_type": "code",
   "execution_count": 17,
   "metadata": {},
   "outputs": [
    {
     "name": "stdout",
     "output_type": "stream",
     "text": [
      "POS Tagging for Twitter Data:\n",
      "Counter({'NN': 1357, '#': 206, 'JJ': 151, 'CD': 102, 'RB': 77, 'VB': 76, 'IN': 73, 'NNS': 61, 'DT': 34, ':': 24, 'VBG': 16, 'CC': 13, 'MD': 10, 'RBR': 8, '$': 8, '(': 8, 'VBD': 7, 'JJS': 7, '.': 5, 'SYM': 4, 'VBN': 3, \"''\": 2, 'WP': 2, 'WRB': 2, 'TO': 2, 'POS': 2})\n"
     ]
    }
   ],
   "source": [
    "postags = []\n",
    "for word in df_twitter[\"Pos_Tag\"]:\n",
    "    postags.append(word[0][1])\n",
    "count_twitter = Counter(postags)\n",
    "print(\"POS Tagging for Twitter Data:\")\n",
    "print(count_twitter)"
   ]
  },
  {
   "cell_type": "code",
   "execution_count": 18,
   "metadata": {},
   "outputs": [
    {
     "name": "stdout",
     "output_type": "stream",
     "text": [
      "Percenatge of  Nouns in Storm Data:  65.72683998535335\n"
     ]
    }
   ],
   "source": [
    "# percentage of Nouns in Storm Data\n",
    "perStorm = ((7026+154)/ len(df_storm[\"Pos_Tag\"]) ) * 100\n",
    "print(\"Percenatge of  Nouns in Storm Data: \", perStorm)"
   ]
  },
  {
   "cell_type": "code",
   "execution_count": 19,
   "metadata": {},
   "outputs": [
    {
     "name": "stdout",
     "output_type": "stream",
     "text": [
      "Percenatge of  Nouns in Storm Data:  64.60176991150442\n"
     ]
    }
   ],
   "source": [
    "# percentage of Nouns in Twitter Data\n",
    "perTwitter = ((1399 + 61)/ len(df_twitter[\"Pos_Tag\"]) ) * 100\n",
    "print(\"Percenatge of  Nouns in Storm Data: \", perTwitter)"
   ]
  },
  {
   "cell_type": "code",
   "execution_count": 20,
   "metadata": {},
   "outputs": [],
   "source": [
    "# Sentiment Analysis\n",
    "from textblob import TextBlob\n",
    "\n",
    "def getSentiment(text):\n",
    "    senti = TextBlob(text)\n",
    "    return senti.sentiment.polarity\n",
    "df_storm[\"Sentiment\"] = df_storm.apply(lambda row: getSentiment(row['word']), axis=1)\n",
    "df_twitter[\"Sentiment\"] = df_twitter.apply(lambda row: getSentiment(row['word']), axis=1)"
   ]
  },
  {
   "cell_type": "code",
   "execution_count": 21,
   "metadata": {},
   "outputs": [
    {
     "name": "stdout",
     "output_type": "stream",
     "text": [
      "Average Sentiment Score for Storm data:  0.011878668927597858\n"
     ]
    }
   ],
   "source": [
    "print(\"Average Sentiment Score for Storm data: \",df_storm[\"Sentiment\"].mean())"
   ]
  },
  {
   "cell_type": "code",
   "execution_count": 22,
   "metadata": {},
   "outputs": [
    {
     "name": "stdout",
     "output_type": "stream",
     "text": [
      "Average Sentiment Score for Twitter data:  0.0021541792449615107\n"
     ]
    }
   ],
   "source": [
    "print(\"Average Sentiment Score for Twitter data: \",df_twitter[\"Sentiment\"].mean())"
   ]
  }
 ],
 "metadata": {
  "kernelspec": {
   "display_name": "Python 3",
   "language": "python",
   "name": "python3"
  },
  "language_info": {
   "codemirror_mode": {
    "name": "ipython",
    "version": 3
   },
   "file_extension": ".py",
   "mimetype": "text/x-python",
   "name": "python",
   "nbconvert_exporter": "python",
   "pygments_lexer": "ipython3",
   "version": "3.7.4"
  }
 },
 "nbformat": 4,
 "nbformat_minor": 2
}
