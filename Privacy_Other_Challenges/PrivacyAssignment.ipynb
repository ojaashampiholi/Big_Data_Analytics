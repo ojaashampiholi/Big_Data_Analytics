{
 "cells": [
  {
   "cell_type": "code",
   "execution_count": 1,
   "metadata": {},
   "outputs": [],
   "source": [
    "import numpy as np\n",
    "import pandas as pd\n",
    "from aif360.datasets import GermanDataset\n",
    "from aif360.metrics import BinaryLabelDatasetMetric\n",
    "from aif360.algorithms.preprocessing import Reweighing\n",
    "from IPython.display import Markdown, display"
   ]
  },
  {
   "cell_type": "code",
   "execution_count": 2,
   "metadata": {},
   "outputs": [
    {
     "data": {
      "text/plain": [
       "               instance weights features                \\\n",
       "                                                         \n",
       "                                   month credit_amount   \n",
       "instance names                                           \n",
       "0                           1.0      6.0        1169.0   \n",
       "1                           1.0     48.0        5951.0   \n",
       "2                           1.0     12.0        2096.0   \n",
       "3                           1.0     42.0        7882.0   \n",
       "4                           1.0     24.0        4870.0   \n",
       "...                         ...      ...           ...   \n",
       "995                         1.0     12.0        1736.0   \n",
       "996                         1.0     30.0        3857.0   \n",
       "997                         1.0     12.0         804.0   \n",
       "998                         1.0     45.0        1845.0   \n",
       "999                         1.0     45.0        4576.0   \n",
       "\n",
       "                                                                \\\n",
       "                                                                 \n",
       "               investment_as_income_percentage residence_since   \n",
       "instance names                                                   \n",
       "0                                          4.0             4.0   \n",
       "1                                          2.0             2.0   \n",
       "2                                          2.0             3.0   \n",
       "3                                          2.0             4.0   \n",
       "4                                          3.0             4.0   \n",
       "...                                        ...             ...   \n",
       "995                                        3.0             4.0   \n",
       "996                                        4.0             4.0   \n",
       "997                                        4.0             4.0   \n",
       "998                                        4.0             4.0   \n",
       "999                                        3.0             4.0   \n",
       "\n",
       "                                                                        \\\n",
       "               protected attribute                                       \n",
       "                               age number_of_credits people_liable_for   \n",
       "instance names                                                           \n",
       "0                              1.0               2.0               1.0   \n",
       "1                              0.0               1.0               1.0   \n",
       "2                              1.0               1.0               2.0   \n",
       "3                              1.0               1.0               2.0   \n",
       "4                              1.0               2.0               2.0   \n",
       "...                            ...               ...               ...   \n",
       "995                            1.0               1.0               1.0   \n",
       "996                            1.0               1.0               1.0   \n",
       "997                            1.0               1.0               1.0   \n",
       "998                            0.0               1.0               1.0   \n",
       "999                            1.0               1.0               1.0   \n",
       "\n",
       "                                      ...                                \\\n",
       "                                      ...                                 \n",
       "               status=A11 status=A12  ... housing=A153 skill_level=A171   \n",
       "instance names                        ...                                 \n",
       "0                     1.0        0.0  ...          0.0              0.0   \n",
       "1                     0.0        1.0  ...          0.0              0.0   \n",
       "2                     0.0        0.0  ...          0.0              0.0   \n",
       "3                     1.0        0.0  ...          1.0              0.0   \n",
       "4                     1.0        0.0  ...          1.0              0.0   \n",
       "...                   ...        ...  ...          ...              ...   \n",
       "995                   0.0        0.0  ...          0.0              0.0   \n",
       "996                   1.0        0.0  ...          0.0              0.0   \n",
       "997                   0.0        0.0  ...          0.0              0.0   \n",
       "998                   1.0        0.0  ...          1.0              0.0   \n",
       "999                   0.0        1.0  ...          0.0              0.0   \n",
       "\n",
       "                                                                   \\\n",
       "                                                                    \n",
       "               skill_level=A172 skill_level=A173 skill_level=A174   \n",
       "instance names                                                      \n",
       "0                           0.0              1.0              0.0   \n",
       "1                           0.0              1.0              0.0   \n",
       "2                           1.0              0.0              0.0   \n",
       "3                           0.0              1.0              0.0   \n",
       "4                           0.0              1.0              0.0   \n",
       "...                         ...              ...              ...   \n",
       "995                         1.0              0.0              0.0   \n",
       "996                         0.0              0.0              1.0   \n",
       "997                         0.0              1.0              0.0   \n",
       "998                         0.0              1.0              0.0   \n",
       "999                         0.0              1.0              0.0   \n",
       "\n",
       "                                                                  \\\n",
       "                                                                   \n",
       "               telephone=A191 telephone=A192 foreign_worker=A201   \n",
       "instance names                                                     \n",
       "0                         0.0            1.0                 1.0   \n",
       "1                         1.0            0.0                 1.0   \n",
       "2                         1.0            0.0                 1.0   \n",
       "3                         1.0            0.0                 1.0   \n",
       "4                         1.0            0.0                 1.0   \n",
       "...                       ...            ...                 ...   \n",
       "995                       1.0            0.0                 1.0   \n",
       "996                       0.0            1.0                 1.0   \n",
       "997                       1.0            0.0                 1.0   \n",
       "998                       0.0            1.0                 1.0   \n",
       "999                       1.0            0.0                 1.0   \n",
       "\n",
       "                                   labels  \n",
       "                                           \n",
       "               foreign_worker=A202         \n",
       "instance names                             \n",
       "0                              0.0    1.0  \n",
       "1                              0.0    2.0  \n",
       "2                              0.0    1.0  \n",
       "3                              0.0    1.0  \n",
       "4                              0.0    2.0  \n",
       "...                            ...    ...  \n",
       "995                            0.0    1.0  \n",
       "996                            0.0    1.0  \n",
       "997                            0.0    1.0  \n",
       "998                            0.0    2.0  \n",
       "999                            0.0    1.0  \n",
       "\n",
       "[1000 rows x 59 columns]"
      ]
     },
     "execution_count": 2,
     "metadata": {},
     "output_type": "execute_result"
    }
   ],
   "source": [
    "dataset_orig = GermanDataset(\n",
    "    protected_attribute_names=['age'],                           \n",
    "    privileged_classes=[lambda x: x >= 25],     \n",
    "    features_to_drop=['personal_status', 'sex'] \n",
    "   )\n",
    "dataset_orig"
   ]
  },
  {
   "cell_type": "code",
   "execution_count": 3,
   "metadata": {},
   "outputs": [],
   "source": [
    "dataset_orig_train, dataset_orig_test = dataset_orig.split([0.7], shuffle=True)"
   ]
  },
  {
   "cell_type": "code",
   "execution_count": 4,
   "metadata": {},
   "outputs": [],
   "source": [
    "privileged_groups = [{'age': 1}]\n",
    "unprivileged_groups = [{'age': 0}]"
   ]
  },
  {
   "cell_type": "code",
   "execution_count": 5,
   "metadata": {},
   "outputs": [
    {
     "data": {
      "text/markdown": [
       "#### Original training dataset"
      ],
      "text/plain": [
       "<IPython.core.display.Markdown object>"
      ]
     },
     "metadata": {},
     "output_type": "display_data"
    },
    {
     "name": "stdout",
     "output_type": "stream",
     "text": [
      "Difference in mean outcomes between unprivileged and privileged groups for age before handling the bias is -0.066667\n"
     ]
    }
   ],
   "source": [
    "metric_orig_train = BinaryLabelDatasetMetric(dataset_orig_train, \n",
    "                                             unprivileged_groups=unprivileged_groups,\n",
    "                                             privileged_groups=privileged_groups)\n",
    "display(Markdown(\"#### Original training dataset\"))\n",
    "print(\"Difference in mean outcomes between unprivileged and privileged groups for age before handling the bias is %f\" % metric_orig_train.mean_difference())"
   ]
  },
  {
   "cell_type": "code",
   "execution_count": 6,
   "metadata": {},
   "outputs": [],
   "source": [
    "RW = Reweighing(unprivileged_groups=unprivileged_groups,\n",
    "                privileged_groups=privileged_groups)\n",
    "dataset_transf_train = RW.fit_transform(dataset_orig_train)  "
   ]
  },
  {
   "cell_type": "code",
   "execution_count": 7,
   "metadata": {},
   "outputs": [
    {
     "data": {
      "text/markdown": [
       "#### Transformed training dataset"
      ],
      "text/plain": [
       "<IPython.core.display.Markdown object>"
      ]
     },
     "metadata": {},
     "output_type": "display_data"
    },
    {
     "name": "stdout",
     "output_type": "stream",
     "text": [
      "Difference in mean outcomes between unprivileged and privileged groups in age after handling the bias is 0.000000\n"
     ]
    }
   ],
   "source": [
    "metric_transf_train = BinaryLabelDatasetMetric(dataset_transf_train, \n",
    "                                               unprivileged_groups=unprivileged_groups,\n",
    "                                               privileged_groups=privileged_groups)\n",
    "display(Markdown(\"#### Transformed training dataset\"))\n",
    "print(\"Difference in mean outcomes between unprivileged and privileged groups in age after handling the bias is %f\" % metric_transf_train.mean_difference())"
   ]
  },
  {
   "cell_type": "markdown",
   "metadata": {},
   "source": [
    "## Part 2\n",
    "Mitigating Bias in Sex column"
   ]
  },
  {
   "cell_type": "code",
   "execution_count": 8,
   "metadata": {},
   "outputs": [
    {
     "data": {
      "text/plain": [
       "               instance weights features                \\\n",
       "                                                         \n",
       "                                   month credit_amount   \n",
       "instance names                                           \n",
       "0                           1.0      6.0        1169.0   \n",
       "1                           1.0     48.0        5951.0   \n",
       "2                           1.0     12.0        2096.0   \n",
       "3                           1.0     42.0        7882.0   \n",
       "4                           1.0     24.0        4870.0   \n",
       "...                         ...      ...           ...   \n",
       "995                         1.0     12.0        1736.0   \n",
       "996                         1.0     30.0        3857.0   \n",
       "997                         1.0     12.0         804.0   \n",
       "998                         1.0     45.0        1845.0   \n",
       "999                         1.0     45.0        4576.0   \n",
       "\n",
       "                                                                \\\n",
       "                                                                 \n",
       "               investment_as_income_percentage residence_since   \n",
       "instance names                                                   \n",
       "0                                          4.0             4.0   \n",
       "1                                          2.0             2.0   \n",
       "2                                          2.0             3.0   \n",
       "3                                          2.0             4.0   \n",
       "4                                          3.0             4.0   \n",
       "...                                        ...             ...   \n",
       "995                                        3.0             4.0   \n",
       "996                                        4.0             4.0   \n",
       "997                                        4.0             4.0   \n",
       "998                                        4.0             4.0   \n",
       "999                                        3.0             4.0   \n",
       "\n",
       "                                                                        \\\n",
       "                                                   protected attribute   \n",
       "               number_of_credits people_liable_for                 sex   \n",
       "instance names                                                           \n",
       "0                            2.0               1.0                 1.0   \n",
       "1                            1.0               1.0                 0.0   \n",
       "2                            1.0               2.0                 1.0   \n",
       "3                            1.0               2.0                 1.0   \n",
       "4                            2.0               2.0                 1.0   \n",
       "...                          ...               ...                 ...   \n",
       "995                          1.0               1.0                 0.0   \n",
       "996                          1.0               1.0                 1.0   \n",
       "997                          1.0               1.0                 1.0   \n",
       "998                          1.0               1.0                 1.0   \n",
       "999                          1.0               1.0                 1.0   \n",
       "\n",
       "                                      ...                                \\\n",
       "                                      ...                                 \n",
       "               status=A11 status=A12  ... housing=A153 skill_level=A171   \n",
       "instance names                        ...                                 \n",
       "0                     1.0        0.0  ...          0.0              0.0   \n",
       "1                     0.0        1.0  ...          0.0              0.0   \n",
       "2                     0.0        0.0  ...          0.0              0.0   \n",
       "3                     1.0        0.0  ...          1.0              0.0   \n",
       "4                     1.0        0.0  ...          1.0              0.0   \n",
       "...                   ...        ...  ...          ...              ...   \n",
       "995                   0.0        0.0  ...          0.0              0.0   \n",
       "996                   1.0        0.0  ...          0.0              0.0   \n",
       "997                   0.0        0.0  ...          0.0              0.0   \n",
       "998                   1.0        0.0  ...          1.0              0.0   \n",
       "999                   0.0        1.0  ...          0.0              0.0   \n",
       "\n",
       "                                                                   \\\n",
       "                                                                    \n",
       "               skill_level=A172 skill_level=A173 skill_level=A174   \n",
       "instance names                                                      \n",
       "0                           0.0              1.0              0.0   \n",
       "1                           0.0              1.0              0.0   \n",
       "2                           1.0              0.0              0.0   \n",
       "3                           0.0              1.0              0.0   \n",
       "4                           0.0              1.0              0.0   \n",
       "...                         ...              ...              ...   \n",
       "995                         1.0              0.0              0.0   \n",
       "996                         0.0              0.0              1.0   \n",
       "997                         0.0              1.0              0.0   \n",
       "998                         0.0              1.0              0.0   \n",
       "999                         0.0              1.0              0.0   \n",
       "\n",
       "                                                                  \\\n",
       "                                                                   \n",
       "               telephone=A191 telephone=A192 foreign_worker=A201   \n",
       "instance names                                                     \n",
       "0                         0.0            1.0                 1.0   \n",
       "1                         1.0            0.0                 1.0   \n",
       "2                         1.0            0.0                 1.0   \n",
       "3                         1.0            0.0                 1.0   \n",
       "4                         1.0            0.0                 1.0   \n",
       "...                       ...            ...                 ...   \n",
       "995                       1.0            0.0                 1.0   \n",
       "996                       0.0            1.0                 1.0   \n",
       "997                       1.0            0.0                 1.0   \n",
       "998                       0.0            1.0                 1.0   \n",
       "999                       1.0            0.0                 1.0   \n",
       "\n",
       "                                   labels  \n",
       "                                           \n",
       "               foreign_worker=A202         \n",
       "instance names                             \n",
       "0                              0.0    1.0  \n",
       "1                              0.0    2.0  \n",
       "2                              0.0    1.0  \n",
       "3                              0.0    1.0  \n",
       "4                              0.0    2.0  \n",
       "...                            ...    ...  \n",
       "995                            0.0    1.0  \n",
       "996                            0.0    1.0  \n",
       "997                            0.0    1.0  \n",
       "998                            0.0    2.0  \n",
       "999                            0.0    1.0  \n",
       "\n",
       "[1000 rows x 59 columns]"
      ]
     },
     "execution_count": 8,
     "metadata": {},
     "output_type": "execute_result"
    }
   ],
   "source": [
    "dataset_orig = GermanDataset(\n",
    "    protected_attribute_names=['sex'],                           \n",
    "    privileged_classes=[lambda x: x == 'male'],     \n",
    "    features_to_drop=['personal_status', 'age'] \n",
    "   )\n",
    "dataset_orig"
   ]
  },
  {
   "cell_type": "code",
   "execution_count": 9,
   "metadata": {},
   "outputs": [],
   "source": [
    "dataset_orig_train, dataset_orig_test = dataset_orig.split([0.7], shuffle=True)"
   ]
  },
  {
   "cell_type": "code",
   "execution_count": 10,
   "metadata": {},
   "outputs": [],
   "source": [
    "privileged_groups = [{'sex': 1}]\n",
    "unprivileged_groups = [{'sex': 0}]"
   ]
  },
  {
   "cell_type": "code",
   "execution_count": 11,
   "metadata": {},
   "outputs": [
    {
     "data": {
      "text/markdown": [
       "#### Original training dataset"
      ],
      "text/plain": [
       "<IPython.core.display.Markdown object>"
      ]
     },
     "metadata": {},
     "output_type": "display_data"
    },
    {
     "name": "stdout",
     "output_type": "stream",
     "text": [
      "Difference in mean outcomes between unprivileged and privileged groups for sex before handling the bias is -0.062147\n"
     ]
    }
   ],
   "source": [
    "metric_orig_train = BinaryLabelDatasetMetric(dataset_orig_train, \n",
    "                                             unprivileged_groups=unprivileged_groups,\n",
    "                                             privileged_groups=privileged_groups)\n",
    "display(Markdown(\"#### Original training dataset\"))\n",
    "print(\"Difference in mean outcomes between unprivileged and privileged groups for sex before handling the bias is %f\" % metric_orig_train.mean_difference())"
   ]
  },
  {
   "cell_type": "code",
   "execution_count": 12,
   "metadata": {},
   "outputs": [],
   "source": [
    "RW = Reweighing(unprivileged_groups=unprivileged_groups,\n",
    "                privileged_groups=privileged_groups)\n",
    "dataset_transf_train = RW.fit_transform(dataset_orig_train)"
   ]
  },
  {
   "cell_type": "code",
   "execution_count": 13,
   "metadata": {},
   "outputs": [
    {
     "data": {
      "text/markdown": [
       "#### Transformed training dataset"
      ],
      "text/plain": [
       "<IPython.core.display.Markdown object>"
      ]
     },
     "metadata": {},
     "output_type": "display_data"
    },
    {
     "name": "stdout",
     "output_type": "stream",
     "text": [
      "Difference in mean outcomes between unprivileged and privileged groups for sex after handling the bias is 0.000000\n"
     ]
    }
   ],
   "source": [
    "metric_transf_train = BinaryLabelDatasetMetric(dataset_transf_train, \n",
    "                                               unprivileged_groups=unprivileged_groups,\n",
    "                                               privileged_groups=privileged_groups)\n",
    "display(Markdown(\"#### Transformed training dataset\"))\n",
    "print(\"Difference in mean outcomes between unprivileged and privileged groups for sex after handling the bias is %f\" % metric_transf_train.mean_difference())"
   ]
  },
  {
   "cell_type": "markdown",
   "metadata": {},
   "source": [
    "The major advantage of Machine Learning models over statistical models is that the Machine Learning models are very good at identifying and learning patterns in the given data in order to make predictions. But, as much as selective learning is an advantage of Machine Learning, it is also its major disadvantage. The Machine learning models are trained to predict the outcomes based on a certain property and the if the past data that is suppied to train the model has bias in it, then the model introduces a bias in all the results by default. When we consider the example of Admission to an academic institute, if the past records of the institute indicate that less women have been gievn admission, then the model filters out female candidates by default. Such problems may arise at any step of the model pipeline and it is very importnat to handle these biases if we want to create a fairly unbiased model which does not supress some results while boosting some others."
   ]
  },
  {
   "cell_type": "markdown",
   "metadata": {},
   "source": [
    "In the tutorial that is implemeted above in the notebook, we can see that bias can be introduced due to any feature in the dataset.It is very important to handle bias if we want to ensure that the model is fair and not biased towards some feature categories and supresses all other feature categories. In the tutrial, the guide shows a way in which one can check for the bias in the dataset and the possible wrong classification of results that is possible. The steps for the guide are fairly simple. We have to import the dataset that has to be tested, give the protected variables and the other categorical variables which are supposed to be dropped. We then split the data into training and testing dataset. After that we assign previlege groups to the class labels, in order to check for the difference in mean ratings of the groups. If the value is very small or close to 0, we can assume that the feature does not introduce much bias in the model. However, if the value is larger, then we need to downweigh the privileged and unprivileged groups and consequently check if the score has improved. If the score still does not improve, then we should consider recollecting the data and/or dropping the feature from the predictive model."
   ]
  }
 ],
 "metadata": {
  "kernelspec": {
   "display_name": "Python 3",
   "language": "python",
   "name": "python3"
  },
  "language_info": {
   "codemirror_mode": {
    "name": "ipython",
    "version": 3
   },
   "file_extension": ".py",
   "mimetype": "text/x-python",
   "name": "python",
   "nbconvert_exporter": "python",
   "pygments_lexer": "ipython3",
   "version": "3.7.4"
  }
 },
 "nbformat": 4,
 "nbformat_minor": 2
}
